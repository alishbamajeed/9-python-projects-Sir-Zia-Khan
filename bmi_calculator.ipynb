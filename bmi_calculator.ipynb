{
  "nbformat": 4,
  "nbformat_minor": 0,
  "metadata": {
    "colab": {
      "provenance": [],
      "authorship_tag": "ABX9TyOUhDvJxe1YCXvfmNi8lKNC",
      "include_colab_link": true
    },
    "kernelspec": {
      "name": "python3",
      "display_name": "Python 3"
    },
    "language_info": {
      "name": "python"
    }
  },
  "cells": [
    {
      "cell_type": "markdown",
      "metadata": {
        "id": "view-in-github",
        "colab_type": "text"
      },
      "source": [
        "<a href=\"https://colab.research.google.com/github/alishbamajeed/9-python-projects-Sir-Zia-Khan/blob/main/bmi_calculator.ipynb\" target=\"_parent\"><img src=\"https://colab.research.google.com/assets/colab-badge.svg\" alt=\"Open In Colab\"/></a>"
      ]
    },
    {
      "cell_type": "markdown",
      "source": [
        "# **Project 8: Create a Python Streamlit BMI Calculator Web App in Just 6 Minutes**\n",
        "\n",
        "[BMI Calulator Live](https://alishbamajeed-bmi-calculator-bmi-calculator-3m4qsa.streamlit.app/)\n",
        "\n"
      ],
      "metadata": {
        "id": "rjux6aYddggN"
      }
    },
    {
      "cell_type": "code",
      "source": [
        "import streamlit as st\n",
        "import time\n",
        "\n",
        "\n",
        "st.set_page_config(page_title=\"BMI Calculator\", page_icon=\"⚖️\", layout=\"centered\")\n",
        "\n",
        "=\n",
        "st.title(\"🧮 BMI Calculator\")\n",
        "st.markdown(\"\"\"\n",
        "## Calculate your Body Mass Index (BMI)\n",
        "Enter your weight and height below to find out your BMI and health status.\n",
        "\"\"\")\n",
        "\n",
        "col1, col2 = st.columns(2)\n",
        "\n",
        "with col1:\n",
        "    weight = st.number_input(\"Weight (kg):\", min_value=1.0, format=\"%.2f\")\n",
        "\n",
        "with col2:\n",
        "    height = st.number_input(\"Height (m):\", min_value=0.1, format=\"%.2f\")\n",
        "\n",
        "if height > 0 and weight > 0:\n",
        "    bmi = weight / (height ** 2)\n",
        "    st.subheader(\"Your BMI is:\")\n",
        "    st.markdown(f\"<h1 style='text-align: center; color: #4CAF50;'>{bmi:.2f}</h1>\", unsafe_allow_html=True)\n",
        "\n",
        "    if bmi < 18.5:\n",
        "        st.error(\"Underweight\")\n",
        "    elif 18.5 <= bmi < 24.9:\n",
        "        st.success(\"Normal weight\")\n",
        "    elif 25 <= bmi < 29.9:\n",
        "        st.warning(\"Overweight\")\n",
        "    else:\n",
        "        st.error(\"Obesity\")\n",
        "else:\n",
        "    st.info(\"Please enter valid weight and height.\")\n",
        "\n",
        "st.markdown(\"\"\"\n",
        "---\n",
        "**Built with ❤️ using Streamlit**\n",
        "\"\"\")\n",
        "!streamlit run bmi_calculator.py\n",
        "\n"
      ],
      "metadata": {
        "id": "-k5E1iENdrfI"
      },
      "execution_count": null,
      "outputs": []
    },
    {
      "cell_type": "code",
      "source": [],
      "metadata": {
        "id": "vukOXush6diY"
      },
      "execution_count": null,
      "outputs": []
    }
  ]
}