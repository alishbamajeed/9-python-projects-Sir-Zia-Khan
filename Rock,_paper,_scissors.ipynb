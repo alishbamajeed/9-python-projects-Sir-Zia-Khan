{
  "nbformat": 4,
  "nbformat_minor": 0,
  "metadata": {
    "colab": {
      "provenance": [],
      "authorship_tag": "ABX9TyPWEfJDbq+a5bA9czJkne+M",
      "include_colab_link": true
    },
    "kernelspec": {
      "name": "python3",
      "display_name": "Python 3"
    },
    "language_info": {
      "name": "python"
    }
  },
  "cells": [
    {
      "cell_type": "markdown",
      "metadata": {
        "id": "view-in-github",
        "colab_type": "text"
      },
      "source": [
        "<a href=\"https://colab.research.google.com/github/alishbamajeed/9-python-projects-Sir-Zia-Khan/blob/main/Rock%2C_paper%2C_scissors.ipynb\" target=\"_parent\"><img src=\"https://colab.research.google.com/assets/colab-badge.svg\" alt=\"Open In Colab\"/></a>"
      ]
    },
    {
      "cell_type": "markdown",
      "source": [
        "# **Project 4 Rock , Paper  Scissors Game**"
      ],
      "metadata": {
        "id": "bCAIb1RJTqCu"
      }
    },
    {
      "cell_type": "code",
      "execution_count": null,
      "metadata": {
        "colab": {
          "base_uri": "https://localhost:8080/"
        },
        "id": "qVEx8Og8SDgo",
        "outputId": "fd1383b7-4a3b-4212-e2be-fb18c9a26c61"
      },
      "outputs": [
        {
          "output_type": "stream",
          "name": "stdout",
          "text": [
            "🎸 Welcome to Project 3: Rock, Paper, Scissors! ✊✋✌️\n",
            "Let's battle it out! Best of 5 rounds wins! 🏆\n",
            "Choose rock, paper, or scissors: paper\n",
            "🤖 Computer chose: paper\n",
            "It's a draw! 😬\n",
            "Score: You 0 - 0 Computer\n",
            "\n",
            "Choose rock, paper, or scissors: rock\n",
            "🤖 Computer chose: rock\n",
            "It's a draw! 😬\n",
            "Score: You 0 - 0 Computer\n",
            "\n",
            "Choose rock, paper, or scissors: scissor\n",
            "Invalid choice! Please pick rock, paper, or scissors. 🚫\n",
            "Choose rock, paper, or scissors: paper\n",
            "🤖 Computer chose: paper\n",
            "It's a draw! 😬\n",
            "Score: You 0 - 0 Computer\n",
            "\n",
            "Choose rock, paper, or scissors: rock\n",
            "🤖 Computer chose: paper\n",
            "😢 Computer wins this round!\n",
            "Score: You 0 - 1 Computer\n",
            "\n",
            "Choose rock, paper, or scissors: rock\n",
            "🤖 Computer chose: rock\n",
            "It's a draw! 😬\n",
            "Score: You 0 - 1 Computer\n",
            "\n",
            "🔥 Final Results 🔥\n",
            "🤖 The computer wins the game! Better luck next time!\n"
          ]
        }
      ],
      "source": [
        "import random\n",
        "\n",
        "\n",
        "print(\"🎸 Welcome to Project 3: Rock, Paper, Scissors! ✊✋✌️\")\n",
        "print(\"Let's battle it out! Best of 5 rounds wins! 🏆\")\n",
        "\n",
        "\n",
        "choices = [\"rock\", \"paper\", \"scissors\"]\n",
        "\n",
        "\n",
        "user_score = 0\n",
        "computer_score = 0\n",
        "round_count = 0\n",
        "\n",
        "while round_count < 5:\n",
        "    user_choice = input(\"Choose rock, paper, or scissors: \").lower()\n",
        "    if user_choice not in choices:\n",
        "        print(\"Invalid choice! Please pick rock, paper, or scissors. 🚫\")\n",
        "        continue\n",
        "\n",
        "    computer_choice = random.choice(choices)\n",
        "    print(f\"🤖 Computer chose: {computer_choice}\")\n",
        "\n",
        "\n",
        "    if user_choice == computer_choice:\n",
        "        print(\"It's a draw! 😬\")\n",
        "    elif (user_choice == \"rock\" and computer_choice == \"scissors\") or \\\n",
        "         (user_choice == \"paper\" and computer_choice == \"rock\") or \\\n",
        "         (user_choice == \"scissors\" and computer_choice == \"paper\"):\n",
        "        print(\"🎉 You win this round!\")\n",
        "        user_score += 1\n",
        "    else:\n",
        "        print(\"😢 Computer wins this round!\")\n",
        "        computer_score += 1\n",
        "\n",
        "    round_count += 1\n",
        "    print(f\"Score: You {user_score} - {computer_score} Computer\\n\")\n",
        "\n",
        "\n",
        "print(\"🔥 Final Results 🔥\")\n",
        "if user_score > computer_score:\n",
        "    print(\"🏅 Congratulations! You won the game!\")\n",
        "elif user_score < computer_score:\n",
        "    print(\"🤖 The computer wins the game! Better luck next time!\")\n",
        "else:\n",
        "    print(\"🤝 It's a tie! What a close game!\")\n"
      ]
    },
    {
      "cell_type": "markdown",
      "source": [],
      "metadata": {
        "id": "j008KoQOToYb"
      }
    }
  ]
}