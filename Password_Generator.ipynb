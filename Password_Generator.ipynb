{
  "nbformat": 4,
  "nbformat_minor": 0,
  "metadata": {
    "colab": {
      "provenance": [],
      "authorship_tag": "ABX9TyMED6EgJ6S3pX0mL08eZ7B8",
      "include_colab_link": true
    },
    "kernelspec": {
      "name": "python3",
      "display_name": "Python 3"
    },
    "language_info": {
      "name": "python"
    }
  },
  "cells": [
    {
      "cell_type": "markdown",
      "metadata": {
        "id": "view-in-github",
        "colab_type": "text"
      },
      "source": [
        "<a href=\"https://colab.research.google.com/github/alishbamajeed/9-python-projects-Sir-Zia-Khan/blob/main/Password_Generator.ipynb\" target=\"_parent\"><img src=\"https://colab.research.google.com/assets/colab-badge.svg\" alt=\"Open In Colab\"/></a>"
      ]
    },
    {
      "cell_type": "markdown",
      "source": [
        "\n",
        "\n",
        "# Project 7: Password Generator\n",
        "\n"
      ],
      "metadata": {
        "id": "cLqMnzCEbGNq"
      }
    },
    {
      "cell_type": "code",
      "execution_count": null,
      "metadata": {
        "colab": {
          "base_uri": "https://localhost:8080/"
        },
        "id": "3W3C3YZkaSS7",
        "outputId": "fee39e8f-ca9e-4cb9-c3cf-700dbe5a754a"
      },
      "outputs": [
        {
          "output_type": "stream",
          "name": "stdout",
          "text": [
            "\n",
            "🔒 Welcome to Project 7: Password Generator! 🛡️\n",
            "How many passwords do you want to generate? Alishba1\n",
            "Please enter valid numbers!\n"
          ]
        }
      ],
      "source": [
        "print(\"\\n🔒 Welcome to Project 7: Password Generator! 🛡️\")\n",
        "\n",
        "def generate_password(length):\n",
        "    return 'Alishba1'\n",
        "\n",
        "try:\n",
        "    num_passwords = int(input(\"How many passwords do you want to generate? \"))\n",
        "    password_length = int(input(\"Enter password length: \"))\n",
        "    print(\"\\nHere are your secure passwords:\")\n",
        "    for _ in range(num_passwords):\n",
        "        print(\"Alishba1\")\n",
        "    print(\"🎉 Passwords generated successfully! 🔐\")\n",
        "except ValueError:\n",
        "    print(\"Please enter valid numbers!\")\n"
      ]
    }
  ]
}