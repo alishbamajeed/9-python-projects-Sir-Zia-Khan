{
  "nbformat": 4,
  "nbformat_minor": 0,
  "metadata": {
    "colab": {
      "provenance": [],
      "include_colab_link": true
    },
    "kernelspec": {
      "name": "python3",
      "display_name": "Python 3"
    },
    "language_info": {
      "name": "python"
    }
  },
  "cells": [
    {
      "cell_type": "markdown",
      "metadata": {
        "id": "view-in-github",
        "colab_type": "text"
      },
      "source": [
        "<a href=\"https://colab.research.google.com/github/alishbamajeed/9-python-projects-Sir-Zia-Khan/blob/main/Mad_Libs.ipynb\" target=\"_parent\"><img src=\"https://colab.research.google.com/assets/colab-badge.svg\" alt=\"Open In Colab\"/></a>"
      ]
    },
    {
      "cell_type": "markdown",
      "source": [
        "# Project 1 Mad libs Python Project!\n"
      ],
      "metadata": {
        "id": "OG8UjNqvf11T"
      }
    },
    {
      "cell_type": "code",
      "execution_count": null,
      "metadata": {
        "colab": {
          "base_uri": "https://localhost:8080/"
        },
        "id": "CyvjuzKInZc0",
        "outputId": "ad782ed2-cc90-414e-a558-9e91e205ad44"
      },
      "outputs": [
        {
          "output_type": "stream",
          "name": "stdout",
          "text": [
            "🎉 Welcome to Project 1: Mad Libs Python Project! 🎭\n",
            "🌟 Hold on to your hats — this is going to be a rollercoaster of nonsense and giggles! 🎢😂\n",
            "🔥 Get ready to create the most outrageous, belly-achingly funny story by filling in some wild words! 🤪🔥\n",
            "\n",
            "Enter a silly name 🤪 (like Captain Giggles or Sir Snort-a-lot): Alishba\n",
            "Enter a weird place 🌍 (like Underwater Disco or Moon Cheese Factory): Zoo\n",
            "Enter a ridiculous food 🍔 (like Jellybean Pizza or Chocolate Broccoli): pizza\n",
            "Enter a crazy color 🎨 (like Invisible Pink or Glow-in-the-Dark Green): yellow\n",
            "Enter a strange animal 🐒 (like Flying Llama or Disco Duck): flying\n",
            "Enter a wacky action 💃 (like Moonwalking or Juggling Spaghetti): moonwalking\n",
            "Enter a funny emotion 😂 (like Confusedly Happy or Ridiculously Sad): happy\n",
            "Enter a useless superpower 🦸‍♂️ (like Burping Rainbows or Sneezing Glitter): sneezing gliter\n",
            "\n",
            "🎭 Here’s your hilariously absurd Mad Libs story 😂:\n",
            "============================================================\n",
            "One day, ALISHBA went to ZOO 🌟 to find the legendary YELLOW FLYING. Suddenly, the FLYING started MOONWALKING while eating PIZZA! ALISHBA was so HAPPY that they accidentally unlocked their secret superpower: SNEEZING GLITER 💥. The crowd cheered, 'More flying, more moonwalking!' 🎉\n",
            "============================================================\n",
            "\n",
            "Do you want to create another wacky story? (yes/no): yes\n",
            "\n",
            "✨ Refresh the program and let’s cook up more madness! 🤯\n"
          ]
        }
      ],
      "source": [
        "import random\n",
        "\n",
        "# Welcome message\n",
        "print(\"🎉 Welcome to Project 1: Mad Libs Python Project! 🎭\")\n",
        "print(\"🌟 Hold on to your hats — this is going to be a rollercoaster of nonsense and giggles! 🎢😂\")\n",
        "print(\"🔥 Get ready to create the most outrageous, belly-achingly funny story by filling in some wild words! 🤪🔥\\n\")\n",
        "\n",
        "# Collect funny inputs from the user\n",
        "def get_input(prompt):\n",
        "    return input(prompt).strip()\n",
        "\n",
        "name = get_input(\"Enter a silly name 🤪 (like Captain Giggles or Sir Snort-a-lot): \")\n",
        "place = get_input(\"Enter a weird place 🌍 (like Underwater Disco or Moon Cheese Factory): \")\n",
        "food = get_input(\"Enter a ridiculous food 🍔 (like Jellybean Pizza or Chocolate Broccoli): \")\n",
        "color = get_input(\"Enter a crazy color 🎨 (like Invisible Pink or Glow-in-the-Dark Green): \")\n",
        "animal = get_input(\"Enter a strange animal 🐒 (like Flying Llama or Disco Duck): \")\n",
        "verb = get_input(\"Enter a wacky action 💃 (like Moonwalking or Juggling Spaghetti): \")\n",
        "emotion = get_input(\"Enter a funny emotion 😂 (like Confusedly Happy or Ridiculously Sad): \")\n",
        "superpower = get_input(\"Enter a useless superpower 🦸‍♂️ (like Burping Rainbows or Sneezing Glitter): \")\n",
        "\n",
        "# Funny story templates\n",
        "stories = [\n",
        "    f\"One day, {name} went to {place} 🌟 to find the legendary {color} {animal}. Suddenly, the {animal} started {verb} while eating {food}! {name} was so {emotion} that they accidentally unlocked their secret superpower: {superpower} 💥. The crowd cheered, 'More {animal}, more {verb}!' 🎉\",\n",
        "    f\"In {place} 🏝️, {name} ordered {food} from a {color} robot 🤖. Out of nowhere, a {animal} appeared and started {verb}! Everyone was {emotion}, but {name} used their {superpower} to turn the robot into a dancing toaster. Now they all groove every Tuesday! 🎶\",\n",
        "    f\"{name} was {verb} at {place} 🎢 when a {color} {animal} stole their {food}. Overcome with {emotion}, {name} used their {superpower} to chase the thief... only to slip on a banana peel 🍌 and launch into the sky like a rocket! 🚀\",\n",
        "    f\"During a {emotion} day at {place} 🌈, {name} saw a {color} {animal} {verb} on top of a mountain of {food}. Using their {superpower} 🦸‍♀️, {name} turned everything into a giant laughing contest 😂! The {animal} won a trophy shaped like a wiggly worm! 🏆\",\n",
        "    f\"{name} discovered a magical portal at {place} 🌪️ that led to a {color} world ruled by {animal}s. To escape, {name} had to {verb} while eating {food}. With their {superpower}, they dazzled the {animal} king and became the royal jester! 👑\",\n",
        "    f\"Legend says that {name} built a {color} castle at {place} guarded by a {animal} that loves to {verb}. One day, {name} used their {superpower} to create a storm of {food} that made everyone {emotion}. Now, the castle is a famous tourist spot! 🌈\"\n",
        "]\n",
        "\n",
        "# Display random funny story\n",
        "story = random.choice(stories)\n",
        "print(\"\\n🎭 Here’s your hilariously absurd Mad Libs story 😂:\")\n",
        "print(\"=\" * 60)\n",
        "print(story)\n",
        "print(\"=\" * 60)\n",
        "\n",
        "# Ask if they want to play again\n",
        "while True:\n",
        "    play_again = get_input(\"\\nDo you want to create another wacky story? (yes/no): \").lower()\n",
        "    if play_again == 'yes':\n",
        "        story = random.choice(stories)\n",
        "        print(\"\\n🎭 Here’s your next silly story! 🎉\")\n",
        "        print(\"=\" * 60)\n",
        "        print(story)\n",
        "        print(\"=\" * 60)\n",
        "    elif play_again == 'no':\n",
        "        print(\"\\nThanks for playing! Keep giggling and stay silly! 🎉\")\n",
        "        break\n",
        "    else:\n",
        "        print(\"Please enter 'yes' or 'no'.\")\n"
      ]
    },
    {
      "cell_type": "markdown",
      "source": [],
      "metadata": {
        "id": "5WOSc8c13QQQ"
      }
    }
  ]
}