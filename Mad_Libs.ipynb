{
  "nbformat": 4,
  "nbformat_minor": 0,
  "metadata": {
    "colab": {
      "provenance": [],
      "include_colab_link": true
    },
    "kernelspec": {
      "name": "python3",
      "display_name": "Python 3"
    },
    "language_info": {
      "name": "python"
    }
  },
  "cells": [
    {
      "cell_type": "markdown",
      "metadata": {
        "id": "view-in-github",
        "colab_type": "text"
      },
      "source": [
        "<a href=\"https://colab.research.google.com/github/alishbamajeed/9-python-projects-Sir-Zia-Khan/blob/main/Mad_Libs.ipynb\" target=\"_parent\"><img src=\"https://colab.research.google.com/assets/colab-badge.svg\" alt=\"Open In Colab\"/></a>"
      ]
    },
    {
      "cell_type": "markdown",
      "source": [
        "# Project 1 Mad libs Python Project!\n",
        "[Linkedin](https://www.linkedin.com/in/sakeena-majeed-86b58732a/)"
      ],
      "metadata": {
        "id": "OG8UjNqvf11T"
      }
    },
    {
      "cell_type": "code",
      "execution_count": null,
      "metadata": {
        "colab": {
          "base_uri": "https://localhost:8080/"
        },
        "id": "CyvjuzKInZc0",
        "outputId": "ad782ed2-cc90-414e-a558-9e91e205ad44"
      },
      "outputs": [
        {
          "output_type": "stream",
          "name": "stdout",
          "text": [
            "🎉 Welcome to Project 1: Mad Libs Python Project! 🎭\n",
            "🌟 Hold on to your hats — this is going to be a rollercoaster of nonsense and giggles! 🎢😂\n",
            "🔥 Get ready to create the most outrageous, belly-achingly funny story by filling in some wild words! 🤪🔥\n",
            "\n",
            "Enter a silly name 🤪 (like Captain Giggles or Sir Snort-a-lot): Alishba\n",
            "Enter a weird place 🌍 (like Underwater Disco or Moon Cheese Factory): Zoo\n",
            "Enter a ridiculous food 🍔 (like Jellybean Pizza or Chocolate Broccoli): pizza\n",
            "Enter a crazy color 🎨 (like Invisible Pink or Glow-in-the-Dark Green): yellow\n",
            "Enter a strange animal 🐒 (like Flying Llama or Disco Duck): flying\n",
            "Enter a wacky action 💃 (like Moonwalking or Juggling Spaghetti): moonwalking\n",
            "Enter a funny emotion 😂 (like Confusedly Happy or Ridiculously Sad): happy\n",
            "Enter a useless superpower 🦸‍♂️ (like Burping Rainbows or Sneezing Glitter): sneezing gliter\n",
            "\n",
            "🎭 Here’s your hilariously absurd Mad Libs story 😂:\n",
            "============================================================\n",
            "One day, ALISHBA went to ZOO 🌟 to find the legendary YELLOW FLYING. Suddenly, the FLYING started MOONWALKING while eating PIZZA! ALISHBA was so HAPPY that they accidentally unlocked their secret superpower: SNEEZING GLITER 💥. The crowd cheered, 'More flying, more moonwalking!' 🎉\n",
            "============================================================\n",
            "\n",
            "Do you want to create another wacky story? (yes/no): yes\n",
            "\n",
            "✨ Refresh the program and let’s cook up more madness! 🤯\n"
          ]
        }
      ],
      "source": [
        "import random\n",
        "\n",
        "def format_input(text):\n",
        "   return text.upper()\n",
        "print(\"🎉 Welcome to Project 1: Mad Libs Python Project! 🎭\")\n",
        "print(\"🌟 Hold on to your hats — this is going to be a rollercoaster of nonsense and giggles! 🎢😂\")\n",
        "print(\"🔥 Get ready to create the most outrageous, belly-achingly funny story by filling in some wild words! 🤪🔥\\n\")\n",
        "\n",
        "\n",
        "name = input(\"Enter a silly name 🤪 (like Captain Giggles or Sir Snort-a-lot): \")\n",
        "place = input(\"Enter a weird place 🌍 (like Underwater Disco or Moon Cheese Factory): \")\n",
        "food = input(\"Enter a ridiculous food 🍔 (like Jellybean Pizza or Chocolate Broccoli): \")\n",
        "color = input(\"Enter a crazy color 🎨 (like Invisible Pink or Glow-in-the-Dark Green): \")\n",
        "animal = input(\"Enter a strange animal 🐒 (like Flying Llama or Disco Duck): \")\n",
        "verb = input(\"Enter a wacky action 💃 (like Moonwalking or Juggling Spaghetti): \")\n",
        "emotion = input(\"Enter a funny emotion 😂 (like Confusedly Happy or Ridiculously Sad): \")\n",
        "superpower = input(\"Enter a useless superpower 🦸‍♂️ (like Burping Rainbows or Sneezing Glitter): \")\n",
        "\n",
        "\n",
        "stories = [\n",
        "    f\"One day, {format_input(name)} went to {format_input (place)} 🌟 to find the legendary {format_input (color)} {format_input (animal)}. Suddenly, the {format_input (animal)} started {format_input (verb)} while eating {format_input (food)}! {format_input (name)} was so {format_input(emotion)} that they accidentally unlocked their secret superpower: {format_input (superpower)} 💥. The crowd cheered, 'More {animal}, more {verb}!' 🎉\",\n",
        "    f\"In {format_input (place)} 🏝️, {format_input (name)} ordered {format_input (food)} from a {format_input (color)} robot 🤖. Out of nowhere, a {format_input (animal)} appeared and started {format_input (verb)}! Everyone was {format_input (emotion)}, but {format_input (name)} used their {format_input (superpower)} to turn the robot into a dancing toaster. Now they all groove every Tuesday! 🎶\",\n",
        "    f\"{format_input(name)} was {format_input(verb)} at {place} 🎢 when a {format_input (color)} {format_input (animal)} stole their {format_input (food)}. Overcome with {format_input (emotion)}, {format_input (name)} used their {superpower} to chase the thief... only to slip on a banana peel 🍌 and launch into the sky like a rocket! 🚀\",\n",
        "    f\"During a {format_input(emotion)} day at {format_input(place)} 🌈, {format_input (name)} saw a {format_input (color)} {format_input (animal)} {format_input (verb)} on top of a mountain of {food}. Using their {format_input (superpower)} 🦸‍♀️, {format_input (name)} turned everything into a giant laughing contest 😂! The {format_input (animal)} won a trophy shaped like a wiggly worm! 🏆\",\n",
        "    f\"{format_input(name)} discovered a magical portal at {format_input (place)} 🌪️ that led to a {format_input (color)} world ruled by {format_input(animal)}s. To escape, {format_input(name)} had to {format_input(verb)} while eating {format_input (food)}. With their {format_input (superpower)}, they dazzled the {format_input(animal)} king and became the royal jester! 👑\"\n",
        "]\n",
        "\n",
        "story = random.choice(stories)\n",
        "print(\"\\n🎭 Here’s your hilariously absurd Mad Libs story 😂:\")\n",
        "print(\"=\" * 60)\n",
        "print(story)\n",
        "print(\"=\" * 60)\n",
        "\n",
        "play_again = input(\"\\nDo you want to create another wacky story? (yes/no): \").strip().lower()\n",
        "if play_again == 'yes':\n",
        "    print(\"\\n✨ Refresh the program and let’s cook up more madness! 🤯\")\n",
        "else:\n",
        "    print(\"\\nThanks for playing! Keep giggling and stay silly! 🎉\")\n"
      ]
    },
    {
      "cell_type": "markdown",
      "source": [],
      "metadata": {
        "id": "5WOSc8c13QQQ"
      }
    }
  ]
}