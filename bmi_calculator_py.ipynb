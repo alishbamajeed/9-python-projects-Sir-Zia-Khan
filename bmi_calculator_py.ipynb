{
  "nbformat": 4,
  "nbformat_minor": 0,
  "metadata": {
    "colab": {
      "provenance": [],
      "authorship_tag": "ABX9TyNmxyxd6EDSE2gQwvnILrX8",
      "include_colab_link": true
    },
    "kernelspec": {
      "name": "python3",
      "display_name": "Python 3"
    },
    "language_info": {
      "name": "python"
    }
  },
  "cells": [
    {
      "cell_type": "markdown",
      "metadata": {
        "id": "view-in-github",
        "colab_type": "text"
      },
      "source": [
        "<a href=\"https://colab.research.google.com/github/alishbamajeed/9-python-projects-Sir-Zia-Khan/blob/main/bmi_calculator_py.ipynb\" target=\"_parent\"><img src=\"https://colab.research.google.com/assets/colab-badge.svg\" alt=\"Open In Colab\"/></a>"
      ]
    },
    {
      "cell_type": "markdown",
      "source": [
        "# **Project 8: Create a Python Streamlit BMI Calculator Web App in Just 6 Minutes**\n",
        "\n",
        "[BMI Calulator Live](https://alishbamajeed-bmi-calculator-bmi-calculator-3m4qsa.streamlit.app/)\n",
        "\n"
      ],
      "metadata": {
        "id": "rjux6aYddggN"
      }
    },
    {
      "cell_type": "code",
      "source": [
        "import streamlit as st\n",
        "import time\n",
        "\n",
        "# App configuration\n",
        "st.set_page_config(page_title=\"BMI Calculator\", page_icon=\"⚖️\", layout=\"centered\")\n",
        "\n",
        "# App title and description\n",
        "st.title(\"🧮 BMI Calculator\")\n",
        "st.markdown(\"\"\"\n",
        "## Calculate your Body Mass Index (BMI)\n",
        "Enter your weight and height below to find out your BMI and health status.\n",
        "\"\"\")\n",
        "\n",
        "# Calculator-style layout\n",
        "col1, col2 = st.columns(2)\n",
        "\n",
        "with col1:\n",
        "    weight = st.number_input(\"Weight (kg):\", min_value=1.0, format=\"%.2f\")\n",
        "\n",
        "with col2:\n",
        "    height = st.number_input(\"Height (m):\", min_value=0.1, format=\"%.2f\")\n",
        "\n",
        "# Calculate BMI if inputs are valid\n",
        "if height > 0 and weight > 0:\n",
        "    bmi = weight / (height ** 2)\n",
        "    st.subheader(\"Your BMI is:\")\n",
        "    st.markdown(f\"<h1 style='text-align: center; color: #4CAF50;'>{bmi:.2f}</h1>\", unsafe_allow_html=True)\n",
        "\n",
        "    # BMI Categories\n",
        "    if bmi < 18.5:\n",
        "        st.error(\"Underweight\")\n",
        "    elif 18.5 <= bmi < 24.9:\n",
        "        st.success(\"Normal weight\")\n",
        "    elif 25 <= bmi < 29.9:\n",
        "        st.warning(\"Overweight\")\n",
        "    else:\n",
        "        st.error(\"Obesity\")\n",
        "else:\n",
        "    st.info(\"Please enter valid weight and height.\")\n",
        "\n",
        "# Footer\n",
        "st.markdown(\"\"\"\n",
        "---\n",
        "**Built with ❤️ using Streamlit**\n",
        "\"\"\")\n",
        "!streamlit run bmi_calculator.py\n",
        "\n"
      ],
      "metadata": {
        "colab": {
          "base_uri": "https://localhost:8080/"
        },
        "id": "-k5E1iENdrfI",
        "outputId": "af526b4c-32ee-4899-d56d-3431fe599ca6"
      },
      "execution_count": 16,
      "outputs": [
        {
          "output_type": "stream",
          "name": "stderr",
          "text": [
            "2025-02-24 17:03:36.672 Thread 'MainThread': missing ScriptRunContext! This warning can be ignored when running in bare mode.\n",
            "2025-02-24 17:03:36.673 Thread 'MainThread': missing ScriptRunContext! This warning can be ignored when running in bare mode.\n",
            "2025-02-24 17:03:36.674 Thread 'MainThread': missing ScriptRunContext! This warning can be ignored when running in bare mode.\n",
            "2025-02-24 17:03:36.675 Thread 'MainThread': missing ScriptRunContext! This warning can be ignored when running in bare mode.\n",
            "2025-02-24 17:03:36.675 Thread 'MainThread': missing ScriptRunContext! This warning can be ignored when running in bare mode.\n",
            "2025-02-24 17:03:36.676 Thread 'MainThread': missing ScriptRunContext! This warning can be ignored when running in bare mode.\n",
            "2025-02-24 17:03:36.677 Thread 'MainThread': missing ScriptRunContext! This warning can be ignored when running in bare mode.\n",
            "2025-02-24 17:03:36.677 Thread 'MainThread': missing ScriptRunContext! This warning can be ignored when running in bare mode.\n",
            "2025-02-24 17:03:36.678 Thread 'MainThread': missing ScriptRunContext! This warning can be ignored when running in bare mode.\n",
            "2025-02-24 17:03:36.679 Thread 'MainThread': missing ScriptRunContext! This warning can be ignored when running in bare mode.\n",
            "2025-02-24 17:03:36.681 Thread 'MainThread': missing ScriptRunContext! This warning can be ignored when running in bare mode.\n",
            "2025-02-24 17:03:36.681 Thread 'MainThread': missing ScriptRunContext! This warning can be ignored when running in bare mode.\n",
            "2025-02-24 17:03:36.682 Thread 'MainThread': missing ScriptRunContext! This warning can be ignored when running in bare mode.\n",
            "2025-02-24 17:03:36.685 Thread 'MainThread': missing ScriptRunContext! This warning can be ignored when running in bare mode.\n",
            "2025-02-24 17:03:36.686 Thread 'MainThread': missing ScriptRunContext! This warning can be ignored when running in bare mode.\n",
            "2025-02-24 17:03:36.689 Thread 'MainThread': missing ScriptRunContext! This warning can be ignored when running in bare mode.\n",
            "2025-02-24 17:03:36.690 Thread 'MainThread': missing ScriptRunContext! This warning can be ignored when running in bare mode.\n",
            "2025-02-24 17:03:36.693 Thread 'MainThread': missing ScriptRunContext! This warning can be ignored when running in bare mode.\n",
            "2025-02-24 17:03:36.694 Thread 'MainThread': missing ScriptRunContext! This warning can be ignored when running in bare mode.\n",
            "2025-02-24 17:03:36.697 Thread 'MainThread': missing ScriptRunContext! This warning can be ignored when running in bare mode.\n",
            "2025-02-24 17:03:36.698 Thread 'MainThread': missing ScriptRunContext! This warning can be ignored when running in bare mode.\n",
            "2025-02-24 17:03:36.700 Thread 'MainThread': missing ScriptRunContext! This warning can be ignored when running in bare mode.\n",
            "2025-02-24 17:03:36.703 Thread 'MainThread': missing ScriptRunContext! This warning can be ignored when running in bare mode.\n",
            "2025-02-24 17:03:36.703 Thread 'MainThread': missing ScriptRunContext! This warning can be ignored when running in bare mode.\n",
            "2025-02-24 17:03:36.704 Thread 'MainThread': missing ScriptRunContext! This warning can be ignored when running in bare mode.\n",
            "2025-02-24 17:03:36.705 Thread 'MainThread': missing ScriptRunContext! This warning can be ignored when running in bare mode.\n",
            "2025-02-24 17:03:36.707 Thread 'MainThread': missing ScriptRunContext! This warning can be ignored when running in bare mode.\n",
            "2025-02-24 17:03:36.708 Thread 'MainThread': missing ScriptRunContext! This warning can be ignored when running in bare mode.\n"
          ]
        },
        {
          "output_type": "stream",
          "name": "stdout",
          "text": [
            "Usage: streamlit run [OPTIONS] TARGET [ARGS]...\n",
            "Try 'streamlit run --help' for help.\n",
            "\n",
            "Error: Invalid value: File does not exist: bmi_calculator.py\n"
          ]
        }
      ]
    },
    {
      "cell_type": "code",
      "source": [],
      "metadata": {
        "id": "vukOXush6diY"
      },
      "execution_count": null,
      "outputs": []
    }
  ]
}