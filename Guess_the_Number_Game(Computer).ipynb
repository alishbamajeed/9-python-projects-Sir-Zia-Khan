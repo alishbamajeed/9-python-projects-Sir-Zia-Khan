{
  "cells": [
    {
      "cell_type": "markdown",
      "metadata": {
        "id": "view-in-github",
        "colab_type": "text"
      },
      "source": [
        "<a href=\"https://colab.research.google.com/github/alishbamajeed/9-python-projects-Sir-Zia-Khan/blob/main/Guess_the_Number_Game(Computer).ipynb\" target=\"_parent\"><img src=\"https://colab.research.google.com/assets/colab-badge.svg\" alt=\"Open In Colab\"/></a>"
      ]
    },
    {
      "cell_type": "markdown",
      "source": [
        "\n",
        "\n",
        "\n",
        "# **Project 2 : Guess The Number (Computer)**\n",
        "\n",
        "\n"
      ],
      "metadata": {
        "id": "FX6ZWPXZmyCs"
      }
    },
    {
      "cell_type": "code",
      "execution_count": null,
      "metadata": {
        "colab": {
          "background_save": true,
          "base_uri": "https://localhost:8080/"
        },
        "id": "P1gkWTye9ORY",
        "outputId": "7bfa77a9-07a9-4e7e-a6dd-0d1358180c34"
      },
      "outputs": [
        {
          "metadata": {
            "tags": null
          },
          "name": "stdout",
          "output_type": "stream",
          "text": [
            "🎯 Welcome to Project 2: Guess the Number Game! 🤖\n",
            "I'm thinking of a number between 1 and 100... Can you read my mind? 🧠\n",
            "Let the battle of wits begin! 💥\n",
            "Too high! 📈 Are you a psychic? 🧙‍♀️\n"
          ]
        }
      ],
      "source": [
        "import random\n",
        "\n",
        "print(\"🎯 Welcome to Project 2: Guess the Number Game! 🤖\")\n",
        "print(\"I'm thinking of a number between 1 and 5... Can you read my mind? 🧠\")\n",
        "print(\"Let the battle of wits begin! 💥\")\n",
        "\n",
        "secret_number = random.randint(1, 5)\n",
        "guess_count = 0\n",
        "\n",
        "messages = [\n",
        "    \"You're getting warmer! 🔥\",\n",
        "    \"Oops, colder... ❄️\",\n",
        "    \"I can feel the suspense! 😱\",\n",
        "    \"Are you a psychic? 🧙‍♀️\",\n",
        "    \"Hmm... getting interesting! 🤔\"\n",
        "]\n",
        "\n",
        "while True:\n",
        "    try:\n",
        "        guess = int(input(\"Enter your guess (1-5): \"))\n",
        "        if guess < 1 or guess > 5:\n",
        "            print(\"Out of bounds! Please guess a number between 1 and 5. 🚫\")  # Fixed range\n",
        "            continue\n",
        "    except ValueError:\n",
        "        print(\"Invalid input! Please enter a number. 🚨\")\n",
        "        continue\n",
        "\n",
        "    guess_count += 1\n",
        "\n",
        "    if guess < secret_number:\n",
        "        print(f\"Too low! 📉 {random.choice(messages)}\")  # Simplified feedback\n",
        "    elif guess > secret_number:\n",
        "        print(f\"Too high! 📈 {random.choice(messages)}\")  # Simplified feedback\n",
        "    else:\n",
        "        print(f\"🎉 Woohoo! You guessed the number {secret_number} in {guess_count} attempts! 🏆\")\n",
        "        if guess_count <= 5:\n",
        "            print(\"You're a genius! 🧠\")\n",
        "        elif guess_count <= 10:\n",
        "            print(\"Great job! That was impressive! ⭐\")\n",
        "        else:\n",
        "            print(\"You did it! Persistence always wins! 💪\")\n",
        "        break\n",
        "\n",
        "print(\"Thanks for playing! You're a true mind-reader... or just lucky! 🍀\")"
      ]
    },
    {
      "cell_type": "code",
      "execution_count": null,
      "metadata": {
        "id": "TXnicxJxQlfy"
      },
      "outputs": [],
      "source": [
        "\n",
        "2"
      ]
    }
  ],
  "metadata": {
    "colab": {
      "provenance": [],
      "include_colab_link": true
    },
    "kernelspec": {
      "display_name": "Python 3",
      "name": "python3"
    },
    "language_info": {
      "name": "python"
    }
  },
  "nbformat": 4,
  "nbformat_minor": 0
}