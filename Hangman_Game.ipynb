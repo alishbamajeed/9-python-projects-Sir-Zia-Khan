{
  "cells": [
    {
      "cell_type": "markdown",
      "metadata": {
        "id": "view-in-github",
        "colab_type": "text"
      },
      "source": [
        "<a href=\"https://colab.research.google.com/github/alishbamajeed/9-python-projects-Sir-Zia-Khan/blob/main/Hangman_Game.ipynb\" target=\"_parent\"><img src=\"https://colab.research.google.com/assets/colab-badge.svg\" alt=\"Open In Colab\"/></a>"
      ]
    },
    {
      "cell_type": "markdown",
      "metadata": {
        "id": "wwlghRlSWxVJ"
      },
      "source": [
        "\n",
        "\n",
        ">\n",
        "# **Project : 5  Hangman Game**\n",
        "\n",
        "\n"
      ]
    },
    {
      "cell_type": "code",
      "execution_count": null,
      "metadata": {
        "colab": {
          "background_save": true,
          "base_uri": "https://localhost:8080/"
        },
        "id": "fPo_pJuwXTpU",
        "outputId": "c8152bf7-e748-4c80-8a32-ea416f1d100e"
      },
      "outputs": [
        {
          "metadata": {
            "tags": null
          },
          "name": "stdout",
          "output_type": "stream",
          "text": [
            "🎯 Welcome to Project 5: Hangman Game! 🕹️\n",
            "Guess the word, one letter at a time. You have 6 lives! ❤️\n",
            "\n",
            "Lives left: 6\n",
            "Used letters: \n",
            "Word:  _ _ _ _ _ _ _\n",
            "Invalid input. Please guess a letter. 🚨\n",
            "\n",
            "Lives left: 6\n",
            "Used letters: \n",
            "Word:  _ _ _ _ _ _ _\n",
            "Invalid input. Please guess a letter. 🚨\n",
            "\n",
            "Lives left: 6\n",
            "Used letters: \n",
            "Word:  _ _ _ _ _ _ _\n",
            "Invalid input. Please guess a letter. 🚨\n",
            "\n",
            "Lives left: 6\n",
            "Used letters: \n",
            "Word:  _ _ _ _ _ _ _\n",
            "Invalid input. Please guess a letter. 🚨\n",
            "\n",
            "Lives left: 6\n",
            "Used letters: \n",
            "Word:  _ _ _ _ _ _ _\n"
          ]
        }
      ],
      "source": [
        "import random\n",
        "\n",
        "# List of words for the game\n",
        "words = ['python', 'javascript', 'hangman', 'developer', 'programming', 'challenge']\n",
        "\n",
        "# Choose a random word\n",
        "word = random.choice(words)\n",
        "word_letters = set(word)  # Unique letters in the word\n",
        "alphabet = set('abcdefghijklmnopqrstuvwxyz')\n",
        "used_letters = set()  # Letters guessed by the user\n",
        "\n",
        "# Number of lives\n",
        "lives = 6\n",
        "\n",
        "print(\"🎯 Welcome to Project 5: Hangman Game! 🕹️\")\n",
        "print(\"Guess the word, one letter at a time. You have 6 lives! ❤️\")\n",
        "\n",
        "# Game loop\n",
        "while len(word_letters) > 0 and lives > 0:\n",
        "    # Show current status\n",
        "    print(f\"\\nLives left: {lives}\")\n",
        "    print(\"Used letters:\", ' '.join(sorted(used_letters)))\n",
        "\n",
        "    # Display word with guessed letters\n",
        "    display_word = [letter if letter in used_letters else '_' for letter in word]\n",
        "    print(\"Word: \", ' '.join(display_word))\n",
        "\n",
        "    # Get user input\n",
        "    user_letter = input(\"Guess a letter: \").lower()\n",
        "\n",
        "    if user_letter in alphabet - used_letters:\n",
        "        used_letters.add(user_letter)\n",
        "        if user_letter in word_letters:\n",
        "            word_letters.remove(user_letter)\n",
        "        else:\n",
        "            lives -= 1\n",
        "            print(\"Wrong guess! ❌\")\n",
        "    elif user_letter in used_letters:\n",
        "        print(\"You already guessed that letter! 🤔\")\n",
        "    else:\n",
        "        print(\"Invalid input. Please guess a letter. 🚨\")\n",
        "\n",
        "# Win or lose\n",
        "if lives == 0:\n",
        "    print(f\"\\nGame Over! You lost. The word was '{word}'. 💀\")\n",
        "else:\n",
        "    print(f\"\\nCongratulations! You guessed the word '{word}' correctly! 🎉\")\n",
        "\n",
        "print(\"Thanks for playing! 🏆\")\n"
      ]
    }
  ],
  "metadata": {
    "colab": {
      "provenance": [],
      "authorship_tag": "ABX9TyN7B50Mr62FIWd1Gt/AufmT",
      "include_colab_link": true
    },
    "kernelspec": {
      "display_name": "Python 3",
      "name": "python3"
    },
    "language_info": {
      "name": "python"
    }
  },
  "nbformat": 4,
  "nbformat_minor": 0
}