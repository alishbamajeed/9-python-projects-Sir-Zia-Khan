{
  "nbformat": 4,
  "nbformat_minor": 0,
  "metadata": {
    "colab": {
      "provenance": [],
      "authorship_tag": "ABX9TyOK1oMrWuJf4tH2tBhgaOfX",
      "include_colab_link": true
    },
    "kernelspec": {
      "name": "python3",
      "display_name": "Python 3"
    },
    "language_info": {
      "name": "python"
    }
  },
  "cells": [
    {
      "cell_type": "markdown",
      "metadata": {
        "id": "view-in-github",
        "colab_type": "text"
      },
      "source": [
        "<a href=\"https://colab.research.google.com/github/alishbamajeed/9-python-projects-Sir-Zia-Khan/blob/main/Number_Guess_Game_(User).ipynb\" target=\"_parent\"><img src=\"https://colab.research.google.com/assets/colab-badge.svg\" alt=\"Open In Colab\"/></a>"
      ]
    },
    {
      "cell_type": "markdown",
      "source": [
        "# **Project 3 : Number Guess Game (User)**"
      ],
      "metadata": {
        "id": "9_g9nkOepzaA"
      }
    },
    {
      "cell_type": "code",
      "execution_count": null,
      "metadata": {
        "colab": {
          "base_uri": "https://localhost:8080/"
        },
        "id": "5P3MVAj0HoVC",
        "outputId": "b769e1d5-bc0e-48d4-8649-ca3ed8c03a30"
      },
      "outputs": [
        {
          "output_type": "stream",
          "name": "stdout",
          "text": [
            "🎯 Welcome to Project 3: Guess the Number Game (User)! 🤖\n",
            "Think of a number between 1 and 5, and I'll guess it! 🧠\n",
            "🔮 Is it 1?\n",
            "This is intense! 🌟\n",
            "Press Enter to let me guess again...67\n",
            "🔮 Is it 1?\n",
            "This is intense! 🌟\n",
            "Press Enter to let me guess again...8\n",
            "🔮 Is it 1?\n",
            "This is intense! 🌟\n",
            "Press Enter to let me guess again...5\n",
            "🔮 Is it 2?\n",
            "Not yet? I'll try again! 🎯\n",
            "Press Enter to let me guess again...6\n",
            "🔮 Is it 3?\n",
            "Hmm... Let me channel my inner psychic! 🔥\n",
            "Press Enter to let me guess again...6\n",
            "😅 Oops! I couldn't guess your number in 5 tries! Maybe you're a master of mind games! 🧠\n",
            "Thanks for playing! You're a tricky one! 😄\n"
          ]
        }
      ],
      "source": [
        "import random\n",
        "\n",
        "\n",
        "print(\"🎯 Welcome to Project 3: Guess the Number Game (User)! 🤖\")\n",
        "print(\"Think of a number between 1 and 5, and I'll guess it! 🧠\")\n",
        "\n",
        "\n",
        "guess_count = 0\n",
        "\n",
        "\n",
        "while guess_count < 5:\n",
        "    guess = random.randint(1, 5)\n",
        "    print(f\"🔮 Is it {guess}?\")\n",
        "\n",
        "    if guess == 27:\n",
        "        print(\"🎉 Congratulations! I guessed your number 27! 🎊\")\n",
        "        break\n",
        "    else:\n",
        "        print(random.choice([\"Hmm... Let me channel my inner psychic! 🔥\", \"Not yet? I'll try again! 🎯\", \"I sense I'm getting closer... 🤔\", \"Your number is playing hide and seek! 🤡\", \"This is intense! 🌟\"]))\n",
        "        input(\"Press Enter to let me guess again...\")\n",
        "        guess_count += 1\n",
        "\n",
        "if guess_count == 5:\n",
        "    print(\"😅 Oops! I couldn't guess your number in 5 tries! Maybe you're a master of mind games! 🧠\")\n",
        "\n",
        "print(\"Thanks for playing! You're a tricky one! 😄\")"
      ]
    }
  ]
}