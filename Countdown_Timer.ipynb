{
  "nbformat": 4,
  "nbformat_minor": 0,
  "metadata": {
    "colab": {
      "provenance": [],
      "authorship_tag": "ABX9TyNLEra5SltNNB4I4NDGaqqq",
      "include_colab_link": true
    },
    "kernelspec": {
      "name": "python3",
      "display_name": "Python 3"
    },
    "language_info": {
      "name": "python"
    }
  },
  "cells": [
    {
      "cell_type": "markdown",
      "metadata": {
        "id": "view-in-github",
        "colab_type": "text"
      },
      "source": [
        "<a href=\"https://colab.research.google.com/github/alishbamajeed/9-python-projects-Sir-Zia-Khan/blob/main/Countdown_Timer.ipynb\" target=\"_parent\"><img src=\"https://colab.research.google.com/assets/colab-badge.svg\" alt=\"Open In Colab\"/></a>"
      ]
    },
    {
      "cell_type": "code",
      "execution_count": null,
      "metadata": {
        "id": "9KpROYScY_PE"
      },
      "outputs": [],
      "source": []
    },
    {
      "cell_type": "markdown",
      "source": [
        "\n",
        "\n",
        "# > **Project 6: Countdown Timer**\n",
        "\n"
      ],
      "metadata": {
        "id": "pTq7F9cSZBB2"
      }
    },
    {
      "cell_type": "code",
      "source": [
        "import time\n",
        "\n",
        "\n",
        "print(\"⏳ Welcome to Project 6: Countdown Timer! ⏰\")\n",
        "\n",
        "\n",
        "try:\n",
        "    seconds = int(input(\"Enter countdown time in seconds: \"))\n",
        "except ValueError:\n",
        "    print(\"Invalid input! Please enter a number.\")\n",
        "    exit()\n",
        "\n",
        "\n",
        "while seconds > 0:\n",
        "    mins, secs = divmod(seconds, 60)\n",
        "    timer = f'{mins:02}:{secs:02}'\n",
        "    print(timer, end='\\r')\n",
        "    time.sleep(1)\n",
        "    seconds -= 1\n",
        "\n",
        "\n",
        "print(\"🎉 Time's up! Countdown completed successfully! 🎊\")\n",
        "\n"
      ],
      "metadata": {
        "colab": {
          "base_uri": "https://localhost:8080/"
        },
        "id": "6GtRqA4hZGpu",
        "outputId": "b1f55797-0aff-477b-8f00-9c53b14e4349"
      },
      "execution_count": null,
      "outputs": [
        {
          "output_type": "stream",
          "name": "stdout",
          "text": [
            "⏳ Welcome to Project 6: Countdown Timer! ⏰\n",
            "Enter countdown time in seconds: 10\n",
            "🎉 Time's up! Countdown completed successfully! 🎊\n"
          ]
        }
      ]
    },
    {
      "cell_type": "code",
      "source": [],
      "metadata": {
        "id": "SXuQC-ntZfdr"
      },
      "execution_count": null,
      "outputs": []
    }
  ]
}